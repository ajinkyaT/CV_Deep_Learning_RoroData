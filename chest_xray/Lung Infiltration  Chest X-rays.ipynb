{
 "cells": [
  {
   "cell_type": "code",
   "execution_count": 1,
   "metadata": {
    "_cell_guid": "a3f8d9da-a2b9-49f9-b485-f5f49ae7c6f9",
    "_uuid": "76b632700f9a3998107fc9edbb66a461991db8b0",
    "collapsed": true
   },
   "outputs": [],
   "source": [
    "import pandas as pd\n",
    "import numpy as np\n",
    "import matplotlib.pylab as plt\n",
    "from sklearn.model_selection import train_test_split"
   ]
  },
  {
   "cell_type": "markdown",
   "metadata": {
    "_cell_guid": "c650980b-538b-4585-ba47-397a0ad8e4b2",
    "_uuid": "becbb2e650d873932852095a608d2c53f818c0c2"
   },
   "source": [
    "# Loading data from NPZ files \n",
    "---\n",
    "\n",
    "Two steps here: load the NPZ files then subset the arrays. We end up with two arrays. x=images, y=labels"
   ]
  },
  {
   "cell_type": "code",
   "execution_count": 2,
   "metadata": {
    "_cell_guid": "9fc61737-32c3-4597-a480-ce572f84b433",
    "_uuid": "ad868eefa3d3c07f221214879fc6503c12ee956d",
    "collapsed": true
   },
   "outputs": [
    {
     "name": "stdout",
     "output_type": "stream",
     "text": [
      "__output__.json\r\n",
      "__results__.html\r\n",
      "__results___files\r\n",
      "custom.css\r\n",
      "x_images_arrays.npz\r\n",
      "y_infiltration_labels.npz\r\n"
     ]
    }
   ],
   "source": [
    "!ls -1 ../input"
   ]
  },
  {
   "cell_type": "code",
   "execution_count": 3,
   "metadata": {
    "_cell_guid": "f3329fe7-fd1c-4fa3-a09a-97388554c8fe",
    "_uuid": "98edaebe89dcd1326ac1f549ccbb85f67ef7b272",
    "collapsed": true
   },
   "outputs": [],
   "source": [
    "# Load npz file containing image arrays\n",
    "x_npz = np.load(\"../input/x_images_arrays.npz\")\n",
    "x = x_npz['arr_0']\n",
    "# Load binary encoded labels for Lung Infiltrations: 0=Not_infiltration 1=Infiltration\n",
    "y_npz = np.load(\"../input/y_infiltration_labels.npz\")\n",
    "y = y_npz['arr_0']"
   ]
  },
  {
   "cell_type": "markdown",
   "metadata": {
    "_cell_guid": "caadaa22-5417-4adb-8ff4-ca63d1170c93",
    "_uuid": "5877172e6fee4756f4efec558dffb25b9fafbde7"
   },
   "source": [
    "# Split into training, validation, and test sets (80/10/10)\n",
    "---\n",
    "\n",
    "First, I split the arrays into 80% for training data and 20% for validaiton and test sets. The second line splits the 20% into the validation and test sets giving us an 80/10/10 split for training, validation, and testing."
   ]
  },
  {
   "cell_type": "code",
   "execution_count": 4,
   "metadata": {
    "_cell_guid": "00bb9133-f43f-4b35-83d0-aa596df60d1e",
    "_uuid": "1077539613d4c35181a04f5f5193ede7b3d7f68e",
    "collapsed": true
   },
   "outputs": [],
   "source": [
    "# First split the data in two sets, 80% for training, 20% for Val/Test)\n",
    "X_train, X_valtest, y_train, y_valtest = train_test_split(x,y, test_size=0.2, random_state=1, stratify=y)\n",
    "\n",
    "# Second split the 20% into validation and test sets\n",
    "X_test, X_val, y_test, y_val = train_test_split(X_valtest, y_valtest, test_size=0.5, random_state=1, stratify=y_valtest)"
   ]
  },
  {
   "cell_type": "code",
   "execution_count": 5,
   "metadata": {
    "_cell_guid": "dfea6d5d-1db0-4474-b465-5c04c8f30dae",
    "_uuid": "8726f0b826796805f3e71ce3eb65366ce580aea7",
    "collapsed": true
   },
   "outputs": [
    {
     "name": "stdout",
     "output_type": "stream",
     "text": [
      "(4484, 128, 128, 3)\n",
      "(561, 128, 128, 3)\n",
      "(561, 128, 128, 3)\n"
     ]
    }
   ],
   "source": [
    "print(np.array(X_train).shape)\n",
    "print(np.array(X_val).shape)\n",
    "print(np.array(X_test).shape)"
   ]
  },
  {
   "cell_type": "markdown",
   "metadata": {
    "_cell_guid": "b1e65a1e-9f15-4bd3-9dc2-0b2265239a5d",
    "_uuid": "70fd52968e322d130770cb37a6eb9cf889c9519a"
   },
   "source": [
    "# Setting up the model in Keras\n",
    "---"
   ]
  },
  {
   "cell_type": "code",
   "execution_count": 6,
   "metadata": {
    "_cell_guid": "f9fee787-a4b1-4175-8676-7fd2907d2b1f",
    "_uuid": "4cd8e310642193c89a386c7b8e657b65c0e4ea8e",
    "collapsed": true
   },
   "outputs": [
    {
     "name": "stderr",
     "output_type": "stream",
     "text": [
      "Using TensorFlow backend.\n",
      "/opt/conda/lib/python3.6/importlib/_bootstrap.py:219: RuntimeWarning: compiletime version 3.5 of module 'tensorflow.python.framework.fast_tensor_util' does not match runtime version 3.6\n",
      "  return f(*args, **kwds)\n"
     ]
    }
   ],
   "source": [
    "from keras.preprocessing.image import ImageDataGenerator\n",
    "from keras import layers, models, optimizers\n",
    "from keras import backend as K"
   ]
  },
  {
   "cell_type": "code",
   "execution_count": 7,
   "metadata": {
    "_cell_guid": "9dd726a2-fd30-4ecc-b520-c8312a497f1b",
    "_uuid": "751b21ac9a1e46f25ec38e7b4d70f715624fdc64",
    "collapsed": true
   },
   "outputs": [
    {
     "data": {
      "text/plain": [
       "'channels_last'"
      ]
     },
     "execution_count": 7,
     "metadata": {},
     "output_type": "execute_result"
    }
   ],
   "source": [
    "K.image_data_format()"
   ]
  },
  {
   "cell_type": "code",
   "execution_count": 8,
   "metadata": {
    "_cell_guid": "dabd32df-1231-4664-aca5-eab8cd9a3386",
    "_uuid": "2b5373b272e20e1f63b429d04ae6daebaa20845f",
    "collapsed": true
   },
   "outputs": [],
   "source": [
    "img_width, img_height = 128, 128\n",
    "nb_train_samples = len(X_train)\n",
    "nb_validation_samples = len(X_val)\n",
    "epochs = 10\n",
    "batch_size = 16"
   ]
  },
  {
   "cell_type": "code",
   "execution_count": 9,
   "metadata": {
    "_cell_guid": "91f42ef3-ff49-4e60-93a4-aa5c64b30c4c",
    "_uuid": "8994607151535720616c4ed90d6c4a7220d6e1af",
    "collapsed": true
   },
   "outputs": [
    {
     "name": "stdout",
     "output_type": "stream",
     "text": [
      "_________________________________________________________________\n",
      "Layer (type)                 Output Shape              Param #   \n",
      "=================================================================\n",
      "conv2d_1 (Conv2D)            (None, 126, 126, 32)      896       \n",
      "_________________________________________________________________\n",
      "batch_normalization_1 (Batch (None, 126, 126, 32)      128       \n",
      "_________________________________________________________________\n",
      "activation_1 (Activation)    (None, 126, 126, 32)      0         \n",
      "_________________________________________________________________\n",
      "max_pooling2d_1 (MaxPooling2 (None, 63, 63, 32)        0         \n",
      "_________________________________________________________________\n",
      "conv2d_2 (Conv2D)            (None, 61, 61, 64)        18496     \n",
      "_________________________________________________________________\n",
      "batch_normalization_2 (Batch (None, 61, 61, 64)        256       \n",
      "_________________________________________________________________\n",
      "activation_2 (Activation)    (None, 61, 61, 64)        0         \n",
      "_________________________________________________________________\n",
      "max_pooling2d_2 (MaxPooling2 (None, 30, 30, 64)        0         \n",
      "_________________________________________________________________\n",
      "conv2d_3 (Conv2D)            (None, 28, 28, 128)       73856     \n",
      "_________________________________________________________________\n",
      "batch_normalization_3 (Batch (None, 28, 28, 128)       512       \n",
      "_________________________________________________________________\n",
      "activation_3 (Activation)    (None, 28, 28, 128)       0         \n",
      "_________________________________________________________________\n",
      "max_pooling2d_3 (MaxPooling2 (None, 14, 14, 128)       0         \n",
      "_________________________________________________________________\n",
      "flatten_1 (Flatten)          (None, 25088)             0         \n",
      "_________________________________________________________________\n",
      "dropout_1 (Dropout)          (None, 25088)             0         \n",
      "_________________________________________________________________\n",
      "dense_1 (Dense)              (None, 64)                1605696   \n",
      "_________________________________________________________________\n",
      "batch_normalization_4 (Batch (None, 64)                256       \n",
      "_________________________________________________________________\n",
      "activation_4 (Activation)    (None, 64)                0         \n",
      "_________________________________________________________________\n",
      "dense_2 (Dense)              (None, 1)                 65        \n",
      "_________________________________________________________________\n",
      "batch_normalization_5 (Batch (None, 1)                 4         \n",
      "_________________________________________________________________\n",
      "activation_5 (Activation)    (None, 1)                 0         \n",
      "=================================================================\n",
      "Total params: 1,700,165\n",
      "Trainable params: 1,699,587\n",
      "Non-trainable params: 578\n",
      "_________________________________________________________________\n"
     ]
    }
   ],
   "source": [
    "model = models.Sequential()\n",
    "\n",
    "model.add(layers.Conv2D(32, (3, 3), input_shape=(img_width, img_height, 3)))\n",
    "model.add(layers.BatchNormalization())\n",
    "model.add(layers.Activation(\"relu\"))\n",
    "\n",
    "model.add(layers.MaxPooling2D((2, 2)))\n",
    "\n",
    "model.add(layers.Conv2D(64, (3, 3)))\n",
    "model.add(layers.BatchNormalization())\n",
    "model.add(layers.Activation(\"relu\"))\n",
    "\n",
    "model.add(layers.MaxPooling2D((2, 2)))\n",
    "\n",
    "model.add(layers.Conv2D(128, (3, 3)))\n",
    "model.add(layers.BatchNormalization())\n",
    "model.add(layers.Activation(\"relu\"))\n",
    "\n",
    "model.add(layers.MaxPooling2D((2, 2)))\n",
    "\n",
    "model.add(layers.Flatten())\n",
    "model.add(layers.Dropout(0.2))\n",
    "model.add(layers.Dense(64))\n",
    "model.add(layers.BatchNormalization())\n",
    "model.add(layers.Activation(\"relu\"))\n",
    "\n",
    "model.add(layers.Dense(1))\n",
    "model.add(layers.BatchNormalization())\n",
    "model.add(layers.Activation(\"sigmoid\"))\n",
    "\n",
    "model.compile(\n",
    "    loss='binary_crossentropy',\n",
    "    optimizer=optimizers.Adam(lr=0.001, beta_1=0.9, beta_2=0.999, epsilon=1e-08, decay=0.0),\n",
    "    metrics=['acc'])\n",
    "\n",
    "model.summary()"
   ]
  },
  {
   "cell_type": "markdown",
   "metadata": {
    "_cell_guid": "233d29ce-b14d-4571-b8ba-341343341882",
    "_uuid": "49a624f60824c470b34b7c1b4017f621f6a6affd"
   },
   "source": [
    "# Data augmentation\n",
    "---\n",
    "\n",
    "I'm rescaling the values by 1/255<br>\n",
    "Randomly flipping images horizontally<br>\n",
    "Randomly rotating in a range of 30 degrees<br>"
   ]
  },
  {
   "cell_type": "code",
   "execution_count": 10,
   "metadata": {
    "_cell_guid": "3b0bd3e9-4e6c-4a64-a779-c598c30247ec",
    "_uuid": "759bc1dcbd1753efdaeeeaa6cdccd2ecb58a07f4",
    "collapsed": true
   },
   "outputs": [],
   "source": [
    "train_datagen = ImageDataGenerator(rescale=1. / 255, horizontal_flip=True, rotation_range=30)\n",
    "val_datagen = ImageDataGenerator(rescale=1. / 255)\n",
    "test_datagen = ImageDataGenerator(rescale=1. / 255)"
   ]
  },
  {
   "cell_type": "code",
   "execution_count": 11,
   "metadata": {
    "_cell_guid": "bace59f4-999a-424f-9a1e-94acf048b761",
    "_uuid": "dcda51336bf02d2be7d1925dad98af03be4d3eb8",
    "collapsed": true
   },
   "outputs": [],
   "source": [
    "train_generator = train_datagen.flow(np.array(X_train), y_train, batch_size=batch_size)\n",
    "validation_generator = val_datagen.flow(np.array(X_val), y_val, batch_size=batch_size)\n",
    "test_generator = val_datagen.flow(np.array(X_test), y_test, batch_size=batch_size)"
   ]
  },
  {
   "cell_type": "code",
   "execution_count": 12,
   "metadata": {
    "_cell_guid": "5ab97e81-0750-478e-8be6-f4983ee3409c",
    "_uuid": "7b3e096fe792ea1cbea769a13c0a07079f16958b",
    "collapsed": true
   },
   "outputs": [
    {
     "name": "stdout",
     "output_type": "stream",
     "text": [
      "Epoch 1/10\n",
      "280/280 [==============================] - 300s 1s/step - loss: 0.6919 - acc: 0.6123 - val_loss: 1.0097 - val_acc: 0.2482\n",
      "Epoch 2/10\n",
      "280/280 [==============================] - 298s 1s/step - loss: 0.6010 - acc: 0.6837 - val_loss: 0.6195 - val_acc: 0.6911\n",
      "Epoch 3/10\n",
      "280/280 [==============================] - 300s 1s/step - loss: 0.5395 - acc: 0.7621 - val_loss: 0.5606 - val_acc: 0.7696\n",
      "Epoch 4/10\n",
      "280/280 [==============================] - 302s 1s/step - loss: 0.5005 - acc: 0.8085 - val_loss: 0.5268 - val_acc: 0.8107\n",
      "Epoch 5/10\n",
      "280/280 [==============================] - 305s 1s/step - loss: 0.4790 - acc: 0.8190 - val_loss: 0.4851 - val_acc: 0.8250\n",
      "Epoch 6/10\n",
      "280/280 [==============================] - 303s 1s/step - loss: 0.4638 - acc: 0.8261 - val_loss: 0.4612 - val_acc: 0.8250\n",
      "Epoch 7/10\n",
      "280/280 [==============================] - 305s 1s/step - loss: 0.4542 - acc: 0.8281 - val_loss: 0.4610 - val_acc: 0.8268\n",
      "Epoch 8/10\n",
      "280/280 [==============================] - 304s 1s/step - loss: 0.4467 - acc: 0.8281 - val_loss: 0.4636 - val_acc: 0.8268\n",
      "Epoch 9/10\n",
      "280/280 [==============================] - 303s 1s/step - loss: 0.4450 - acc: 0.8254 - val_loss: 0.4585 - val_acc: 0.8268\n",
      "Epoch 10/10\n",
      "280/280 [==============================] - 300s 1s/step - loss: 0.4413 - acc: 0.8283 - val_loss: 0.4553 - val_acc: 0.8268\n"
     ]
    }
   ],
   "source": [
    "history = model.fit_generator(\n",
    "    train_generator, \n",
    "    steps_per_epoch=nb_train_samples // batch_size,\n",
    "    epochs=epochs,\n",
    "    validation_data=validation_generator,\n",
    "    validation_steps=nb_validation_samples // batch_size\n",
    ")\n",
    "\n",
    "model.save_weights('weights.h5')"
   ]
  },
  {
   "cell_type": "markdown",
   "metadata": {
    "_cell_guid": "66e8cf0a-a439-44a2-bb28-9784180cff02",
    "_uuid": "5f118263ce2c775beb80e51ce70c6cce0f919625"
   },
   "source": [
    "# Visualize the results on the training and validation data\n",
    "---"
   ]
  },
  {
   "cell_type": "code",
   "execution_count": 13,
   "metadata": {
    "_cell_guid": "cd35c0a6-b2d1-4fcb-a4c0-95c7b7aae8ac",
    "_uuid": "84fc0ea07311e47a2ed37891803173b5a474aac4",
    "collapsed": true
   },
   "outputs": [
    {
     "data": {
      "image/png": "[encoded data removed]",
      "text/plain": [
       "<matplotlib.figure.Figure at 0x7f1a0c415278>"
      ]
     },
     "metadata": {},
     "output_type": "display_data"
    },
    {
     "data": {
      "image/png": "[encoded data removed]",
      "text/plain": [
       "<matplotlib.figure.Figure at 0x7f1a0c3f1358>"
      ]
     },
     "metadata": {},
     "output_type": "display_data"
    }
   ],
   "source": [
    "acc = history.history['acc']\n",
    "val_acc = history.history['val_acc']\n",
    "loss = history.history['loss']\n",
    "val_loss = history.history['val_loss']\n",
    "epochs = range(1, len(acc) + 1)\n",
    "plt.plot(epochs, acc, 'blue', label='Training acc')\n",
    "plt.plot(epochs, val_acc, 'red', label='Validation acc')\n",
    "plt.title('Training and validation accuracy')\n",
    "plt.legend()\n",
    "plt.figure()\n",
    "plt.plot(epochs, loss, 'blue', label='Training loss')\n",
    "plt.plot(epochs, val_loss, 'red', label='Validation loss')\n",
    "plt.title('Training and validation loss')\n",
    "plt.legend()\n",
    "plt.show()"
   ]
  }
 ],
 "metadata": {
  "kernelspec": {
   "display_name": "Python 3",
   "language": "python",
   "name": "python3"
  },
  "language_info": {
   "codemirror_mode": {
    "name": "ipython",
    "version": 3
   },
   "file_extension": ".py",
   "mimetype": "text/x-python",
   "name": "python",
   "nbconvert_exporter": "python",
   "pygments_lexer": "ipython3",
   "version": "3.6.3"
  }
 },
 "nbformat": 4,
 "nbformat_minor": 1
}
