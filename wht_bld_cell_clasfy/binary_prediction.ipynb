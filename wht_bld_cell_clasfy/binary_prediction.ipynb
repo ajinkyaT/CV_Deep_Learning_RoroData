{
 "cells": [
  {
   "cell_type": "code",
   "execution_count": 11,
   "metadata": {
    "collapsed": true
   },
   "outputs": [],
   "source": [
    "import numpy as np\n",
    "from keras.models import Model\n",
    "from keras.models import Sequential\n",
    "from keras.layers import Dense, Dropout, Activation, Flatten\n",
    "from keras.layers import Conv2D, MaxPooling2D, Lambda\n",
    "from keras.layers import Dense\n",
    "from keras.callbacks import ModelCheckpoint, EarlyStopping\n",
    "from keras.utils import np_utils\n",
    "from sklearn.preprocessing import LabelEncoder\n",
    "from sklearn.model_selection import train_test_split\n",
    "from tqdm import tqdm #Progress bar for for loop.\n",
    "import csv\n",
    "import cv2\n",
    "import scipy\n",
    "import os"
   ]
  },
  {
   "cell_type": "code",
   "execution_count": 2,
   "metadata": {
    "collapsed": true
   },
   "outputs": [],
   "source": [
    "epochs = 20\n",
    "BASE_DIR = '/volumes/data/wht_bld_cell_clasfy/'\n",
    "batch_size = 32"
   ]
  },
  {
   "cell_type": "code",
   "execution_count": 3,
   "metadata": {
    "collapsed": true
   },
   "outputs": [],
   "source": [
    "def get_model():\n",
    "    model = Sequential()\n",
    "    model.add(Conv2D(32, (3, 3), input_shape=(120, 160, 3)))\n",
    "    model.add(Activation('relu'))\n",
    "    model.add(MaxPooling2D(pool_size=(2, 2)))\n",
    "\n",
    "    model.add(Conv2D(32, (3, 3)))\n",
    "    model.add(Activation('relu'))\n",
    "    model.add(MaxPooling2D(pool_size=(2, 2)))\n",
    "\n",
    "    model.add(Conv2D(64, (3, 3)))\n",
    "    model.add(Activation('relu'))\n",
    "    model.add(MaxPooling2D(pool_size=(2, 2)))\n",
    "\n",
    "    model.add(Flatten())  # this converts our 3D feature maps to 1D feature vectors\n",
    "    model.add(Dense(64))\n",
    "    model.add(Activation('relu'))\n",
    "    model.add(Dropout(0.7))\n",
    "    model.add(Dense(1))\n",
    "    model.add(Activation('sigmoid'))\n",
    "\n",
    "    model.compile(loss='binary_crossentropy',\n",
    "                optimizer='rmsprop',\n",
    "                metrics=['accuracy'])\n",
    "\n",
    "    return model"
   ]
  },
  {
   "cell_type": "code",
   "execution_count": 4,
   "metadata": {
    "collapsed": true
   },
   "outputs": [],
   "source": [
    "def get_data(folder):\n",
    "    \"\"\"\n",
    "    Load the data and labels from the given folder.\n",
    "    \"\"\"\n",
    "    X = []\n",
    "    y = []\n",
    "\n",
    "    for wbc_type in os.listdir(folder):\n",
    "        if not wbc_type.startswith('.'):\n",
    "            if wbc_type in ['NEUTROPHIL', 'EOSINOPHIL']:\n",
    "                label = 'POLYNUCLEAR'\n",
    "            else:\n",
    "                label = 'MONONUCLEAR'\n",
    "            for image_filename in tqdm(os.listdir(folder + wbc_type)):\n",
    "                img_file = cv2.imread(folder + wbc_type + '/' + image_filename)\n",
    "                if img_file is not None:\n",
    "                    # Downsample the image to 120, 160, 3\n",
    "                    img_file = scipy.misc.imresize(arr=img_file, size=(120, 160, 3))\n",
    "                    img_arr = np.asarray(img_file)\n",
    "                    X.append(img_arr)\n",
    "                    y.append(label)\n",
    "    X = np.asarray(X)\n",
    "    y = np.asarray(y)\n",
    "    return X,y"
   ]
  },
  {
   "cell_type": "code",
   "execution_count": 5,
   "metadata": {
    "collapsed": false
   },
   "outputs": [
    {
     "name": "stderr",
     "output_type": "stream",
     "text": [
      "100%|██████████| 2499/2499 [01:05<00:00, 38.31it/s]\n",
      "100%|██████████| 2496/2496 [01:05<00:00, 38.26it/s]\n",
      "100%|██████████| 2479/2479 [01:04<00:00, 38.28it/s]\n",
      "100%|██████████| 2495/2495 [01:05<00:00, 38.11it/s]\n",
      "100%|██████████| 48/48 [00:01<00:00, 38.63it/s]\n",
      "100%|██████████| 13/13 [00:00<00:00, 38.82it/s]\n",
      "100%|██████████| 4/4 [00:00<00:00, 38.94it/s]\n",
      "100%|██████████| 6/6 [00:00<00:00, 36.28it/s]\n"
     ]
    }
   ],
   "source": [
    "X_train, y_train = get_data(BASE_DIR + 'images/TRAIN/')\n",
    "X_test, y_test = get_data(BASE_DIR + 'images/TEST_SIMPLE/')\n",
    "\n",
    "encoder = LabelEncoder()\n",
    "encoder.fit(y_train)\n",
    "y_train = encoder.transform(y_train)\n",
    "y_test = encoder.transform(y_test)"
   ]
  },
  {
   "cell_type": "code",
   "execution_count": 6,
   "metadata": {
    "collapsed": true
   },
   "outputs": [],
   "source": [
    "X_train = X_train * 1./255.  #Getting data in 0-1 range\n",
    "X_test = X_test * 1./255."
   ]
  },
  {
   "cell_type": "code",
   "execution_count": 7,
   "metadata": {
    "collapsed": false
   },
   "outputs": [
    {
     "name": "stdout",
     "output_type": "stream",
     "text": [
      "Train on 7975 samples, validate on 1994 samples\n",
      "Epoch 1/20\n",
      "7975/7975 [==============================] - 22s - loss: 0.6903 - acc: 0.6183 - val_loss: 0.8478 - val_acc: 0.0000e+00\n",
      "Epoch 2/20\n",
      "7975/7975 [==============================] - 14s - loss: 0.6673 - acc: 0.6261 - val_loss: 1.3311 - val_acc: 0.0000e+00\n",
      "Epoch 3/20\n",
      "7975/7975 [==============================] - 14s - loss: 0.6218 - acc: 0.6622 - val_loss: 1.0096 - val_acc: 0.0271\n",
      "Epoch 4/20\n",
      "7975/7975 [==============================] - 14s - loss: 0.4633 - acc: 0.8008 - val_loss: 1.0758 - val_acc: 0.3666\n",
      "Epoch 5/20\n",
      "7975/7975 [==============================] - 14s - loss: 0.3151 - acc: 0.8777 - val_loss: 0.2603 - val_acc: 0.9323\n",
      "Epoch 6/20\n",
      "7975/7975 [==============================] - 14s - loss: 0.2763 - acc: 0.9136 - val_loss: 0.3270 - val_acc: 0.8230\n",
      "Epoch 7/20\n",
      "7975/7975 [==============================] - 14s - loss: 0.2036 - acc: 0.9324 - val_loss: 0.1427 - val_acc: 0.9529\n",
      "Epoch 8/20\n",
      "7975/7975 [==============================] - 14s - loss: 0.1495 - acc: 0.9473 - val_loss: 0.4610 - val_acc: 0.7728\n",
      "Epoch 9/20\n",
      "7975/7975 [==============================] - 14s - loss: 0.1358 - acc: 0.9556 - val_loss: 0.0756 - val_acc: 0.9744\n",
      "Epoch 10/20\n",
      "7975/7975 [==============================] - 14s - loss: 0.1230 - acc: 0.9595 - val_loss: 0.0702 - val_acc: 0.9809\n",
      "Epoch 11/20\n",
      "7975/7975 [==============================] - 14s - loss: 0.2800 - acc: 0.9526 - val_loss: 0.0575 - val_acc: 0.9905\n",
      "Epoch 12/20\n",
      "7975/7975 [==============================] - 14s - loss: 0.1047 - acc: 0.9708 - val_loss: 0.2388 - val_acc: 0.8942\n",
      "Epoch 13/20\n",
      "7975/7975 [==============================] - 14s - loss: 0.0922 - acc: 0.9720 - val_loss: 0.0269 - val_acc: 0.9935\n",
      "Epoch 14/20\n",
      "7975/7975 [==============================] - 14s - loss: 0.1187 - acc: 0.9735 - val_loss: 0.1041 - val_acc: 0.9589\n",
      "Epoch 15/20\n",
      "7975/7975 [==============================] - 14s - loss: 0.1049 - acc: 0.9703 - val_loss: 0.0139 - val_acc: 0.9975\n",
      "Epoch 16/20\n",
      "7975/7975 [==============================] - 14s - loss: 0.0808 - acc: 0.9766 - val_loss: 0.0214 - val_acc: 0.9985\n",
      "Epoch 17/20\n",
      "7975/7975 [==============================] - 14s - loss: 0.0630 - acc: 0.9818 - val_loss: 0.2329 - val_acc: 0.9127\n",
      "Epoch 18/20\n",
      "7975/7975 [==============================] - 14s - loss: 0.0821 - acc: 0.9789 - val_loss: 0.2131 - val_acc: 0.9117\n",
      "Epoch 19/20\n",
      "7975/7975 [==============================] - 14s - loss: 0.1065 - acc: 0.9761 - val_loss: 0.0106 - val_acc: 0.9995\n",
      "Epoch 20/20\n",
      "7975/7975 [==============================] - 14s - loss: 0.0874 - acc: 0.9789 - val_loss: 0.0134 - val_acc: 0.9975\n"
     ]
    }
   ],
   "source": [
    "model = get_model()\n",
    "\n",
    "model_checkpoint = ModelCheckpoint('binary_pred_weights.h5', monitor='val_loss', save_best_only=True)\n",
    "early_s = EarlyStopping(monitor='val_loss', patience=5, verbose=1)\n",
    "    \n",
    "history = model.fit(\n",
    "                    X_train,\n",
    "                    y_train,\n",
    "                    callbacks=[model_checkpoint,early_s],\n",
    "                    validation_split=0.2,\n",
    "                    epochs=epochs,\n",
    "                    shuffle=True,\n",
    "                    batch_size=batch_size, verbose = 1)\n",
    "\n",
    "model.load_weights('binary_pred_weights.h5')\n",
    "model.save('binary_pred.h5')"
   ]
  },
  {
   "cell_type": "code",
   "execution_count": 8,
   "metadata": {
    "collapsed": true
   },
   "outputs": [],
   "source": [
    "import matplotlib.pyplot as plt\n",
    "%matplotlib inline\n",
    "\n",
    "def plot_history(history):\n",
    "    plt.rcParams[\"figure.figsize\"] = [15,5]\n",
    "    # summarize history for loss\n",
    "    plt.subplot(1,2,1)\n",
    "    plt.plot(history.history['loss']), plt.plot(history.history['val_loss'])\n",
    "    plt.title(' model loss'), plt.ylabel('loss'), plt.xlabel('epoch')\n",
    "    plt.legend(['train', 'test'], loc='upper right',prop={'size': 12})\n",
    "    # summarize history for accuracy\n",
    "    plt.subplot(1,2,2)\n",
    "    plt.plot(history.history['acc']), plt.plot(history.history['val_acc'])\n",
    "    plt.title(' model accuracy'), plt.ylabel('accuracy'), plt.xlabel('epoch')\n",
    "    plt.legend(['train', 'test'], loc='lower right',prop={'size': 12})\n",
    "    plt.show()\n",
    "    print('Last epoch train accuracy:', history.history['acc'][-1])\n",
    "    print('Last epoch test accuracy:', history.history['val_acc'][-1])"
   ]
  },
  {
   "cell_type": "code",
   "execution_count": 9,
   "metadata": {
    "collapsed": false
   },
   "outputs": [
    {
     "data": {
      "image/png": "[encoded data removed]",
      "text/plain": [
       "<matplotlib.figure.Figure at 0x7f530c13d550>"
      ]
     },
     "metadata": {},
     "output_type": "display_data"
    },
    {
     "name": "stdout",
     "output_type": "stream",
     "text": [
      "Last epoch train accuracy: 0.978934169279\n",
      "Last epoch test accuracy: 0.997492477432\n"
     ]
    }
   ],
   "source": [
    "plot_history(history)"
   ]
  },
  {
   "cell_type": "code",
   "execution_count": 10,
   "metadata": {
    "collapsed": false
   },
   "outputs": [
    {
     "name": "stdout",
     "output_type": "stream",
     "text": [
      "Predicting on test data\n",
      "0.985915492958\n"
     ]
    }
   ],
   "source": [
    "from sklearn.metrics import accuracy_score\n",
    "\n",
    "print('Predicting on test data')\n",
    "y_pred = np.rint(model.predict(X_test))\n",
    "\n",
    "print(accuracy_score(y_test, y_pred))"
   ]
  }
 ],
 "metadata": {
  "kernelspec": {
   "display_name": "Python 3",
   "language": "python",
   "name": "python3"
  },
  "language_info": {
   "codemirror_mode": {
    "name": "ipython",
    "version": 3
   },
   "file_extension": ".py",
   "mimetype": "text/x-python",
   "name": "python",
   "nbconvert_exporter": "python",
   "pygments_lexer": "ipython3",
   "version": "3.6.0"
  }
 },
 "nbformat": 4,
 "nbformat_minor": 2
}
