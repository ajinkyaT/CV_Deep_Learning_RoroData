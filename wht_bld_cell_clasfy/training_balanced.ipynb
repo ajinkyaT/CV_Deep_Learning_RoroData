{
 "cells": [
  {
   "cell_type": "code",
   "execution_count": 20,
   "metadata": {
    "collapsed": true
   },
   "outputs": [],
   "source": [
    "import numpy as np\n",
    "from keras.models import Model\n",
    "from keras.models import Sequential\n",
    "from keras.layers import Dense, Dropout, Activation, Flatten\n",
    "from keras.layers import Conv2D, MaxPooling2D, Lambda\n",
    "from keras.layers import Dense\n",
    "from keras.callbacks import ModelCheckpoint, EarlyStopping\n",
    "from keras.utils import np_utils\n",
    "from sklearn.preprocessing import LabelEncoder\n",
    "from sklearn.model_selection import train_test_split\n",
    "import csv\n",
    "import cv2\n",
    "import scipy\n",
    "import os"
   ]
  },
  {
   "cell_type": "code",
   "execution_count": 11,
   "metadata": {
    "collapsed": true
   },
   "outputs": [],
   "source": [
    "num_classes = 4\n",
    "epochs = 30\n",
    "BASE_DIR = '/volumes/data/wht_bld_cell_clasfy/'\n",
    "batch_size = 32"
   ]
  },
  {
   "cell_type": "code",
   "execution_count": 12,
   "metadata": {
    "collapsed": true
   },
   "outputs": [],
   "source": [
    "def get_model():\n",
    "    model = Sequential()\n",
    "    model.add(Lambda(lambda x: x/127.5 - 1., input_shape=(240, 320, 3), output_shape=(240, 320, 3))) #To get data in -1 to 1 range\n",
    "    model.add(Conv2D(32, (3, 3), input_shape=(240, 320, 3)))\n",
    "    model.add(Activation('relu'))\n",
    "    model.add(MaxPooling2D(pool_size=(2, 2)))\n",
    "\n",
    "    model.add(Conv2D(32, (3, 3)))\n",
    "    model.add(Activation('relu'))\n",
    "    model.add(MaxPooling2D(pool_size=(2, 2)))\n",
    "\n",
    "    model.add(Conv2D(64, (3, 3)))\n",
    "    model.add(Activation('relu'))\n",
    "    model.add(MaxPooling2D(pool_size=(2, 2)))\n",
    "\n",
    "    model.add(Flatten())  # this converts our 3D feature maps to 1D feature vectors\n",
    "    model.add(Dense(64))\n",
    "    model.add(Activation('relu'))\n",
    "    model.add(Dropout(0.7))\n",
    "    model.add(Dense(num_classes))\n",
    "    model.add(Activation('softmax'))\n",
    "\n",
    "    model.compile(loss='categorical_crossentropy',\n",
    "                optimizer='rmsprop',\n",
    "                metrics=['accuracy'])\n",
    "\n",
    "    return model"
   ]
  },
  {
   "cell_type": "code",
   "execution_count": 13,
   "metadata": {
    "collapsed": true
   },
   "outputs": [],
   "source": [
    "def get_data(folder):\n",
    "    X = []\n",
    "    y = []\n",
    "\n",
    "    for wbc_type in os.listdir(folder):\n",
    "        if not wbc_type.startswith('.'):                  # To avoid hidden files and .ipython_checkpoint \n",
    "            for image_filename in os.listdir(folder + wbc_type):\n",
    "                img_file = cv2.imread(folder + wbc_type + '/' + image_filename)\n",
    "                if img_file is not None:\n",
    "                    img_arr = np.asarray(img_file)\n",
    "                    X.append(img_arr)\n",
    "                    y.append(wbc_type)\n",
    "    X = np.asarray(X)\n",
    "    y = np.asarray(y)\n",
    "    return X,y"
   ]
  },
  {
   "cell_type": "code",
   "execution_count": 14,
   "metadata": {
    "collapsed": true
   },
   "outputs": [],
   "source": [
    "X_train, y_train = get_data(BASE_DIR + 'images/TRAIN/')\n",
    "X_test, y_test = get_data(BASE_DIR + 'images/TEST_SIMPLE/')\n",
    "\n",
    "encoder = LabelEncoder()\n",
    "encoder.fit(y_train)\n",
    "encoded_y_train = encoder.transform(y_train)\n",
    "encoded_y_test = encoder.transform(y_test)\n",
    "\n",
    "y_train = np_utils.to_categorical(encoded_y_train)\n",
    "y_test = np_utils.to_categorical(encoded_y_test)"
   ]
  },
  {
   "cell_type": "code",
   "execution_count": 15,
   "metadata": {
    "collapsed": false
   },
   "outputs": [
    {
     "name": "stdout",
     "output_type": "stream",
     "text": [
      "Train on 7975 samples, validate on 1994 samples\n",
      "Epoch 1/30\n",
      "7975/7975 [==============================] - 50s - loss: 1.2570 - acc: 0.4046 - val_loss: 1.9132 - val_acc: 0.0000e+00\n",
      "Epoch 2/30\n",
      "7975/7975 [==============================] - 49s - loss: 0.9636 - acc: 0.5549 - val_loss: 3.2934 - val_acc: 0.0000e+00\n",
      "Epoch 3/30\n",
      "7975/7975 [==============================] - 49s - loss: 0.7244 - acc: 0.6913 - val_loss: 2.5679 - val_acc: 0.0863\n",
      "Epoch 4/30\n",
      "7975/7975 [==============================] - 50s - loss: 0.6052 - acc: 0.7656 - val_loss: 1.1557 - val_acc: 0.5491\n",
      "Epoch 5/30\n",
      "7975/7975 [==============================] - 49s - loss: 0.5308 - acc: 0.7851 - val_loss: 2.4120 - val_acc: 0.2533\n",
      "Epoch 6/30\n",
      "7975/7975 [==============================] - 50s - loss: 0.4919 - acc: 0.8088 - val_loss: 0.9245 - val_acc: 0.8250\n",
      "Epoch 7/30\n",
      "7975/7975 [==============================] - 49s - loss: 0.4642 - acc: 0.8260 - val_loss: 1.0541 - val_acc: 0.7136\n",
      "Epoch 8/30\n",
      "7975/7975 [==============================] - 49s - loss: 0.4374 - acc: 0.8355 - val_loss: 0.7988 - val_acc: 0.8942\n",
      "Epoch 9/30\n",
      "7975/7975 [==============================] - 49s - loss: 0.4096 - acc: 0.8466 - val_loss: 2.4998 - val_acc: 0.2693\n",
      "Epoch 10/30\n",
      "7975/7975 [==============================] - 49s - loss: 0.3656 - acc: 0.8652 - val_loss: 2.6592 - val_acc: 0.3952\n",
      "Epoch 11/30\n",
      "7975/7975 [==============================] - 49s - loss: 0.3501 - acc: 0.8671 - val_loss: 1.3148 - val_acc: 0.8305\n",
      "Epoch 12/30\n",
      "7975/7975 [==============================] - 49s - loss: 0.3341 - acc: 0.8737 - val_loss: 7.6118 - val_acc: 0.1153\n",
      "Epoch 13/30\n",
      "7975/7975 [==============================] - 49s - loss: 0.3290 - acc: 0.8860 - val_loss: 1.1663 - val_acc: 0.7688\n",
      "Epoch 14/30\n",
      "7975/7975 [==============================] - 49s - loss: 0.3189 - acc: 0.8898 - val_loss: 1.1498 - val_acc: 0.8355\n",
      "Epoch 00013: early stopping\n"
     ]
    }
   ],
   "source": [
    "model = get_model()\n",
    "\n",
    "model_checkpoint = ModelCheckpoint('training_balanced_weights.h5', monitor='val_loss', save_best_only=True)\n",
    "early_s = EarlyStopping(monitor='val_loss', patience=5, verbose=1)\n",
    "    \n",
    "history = model.fit(\n",
    "                    X_train,\n",
    "                    y_train,\n",
    "                    callbacks=[model_checkpoint,early_s],\n",
    "                    validation_split=0.2,\n",
    "                    epochs=epochs,\n",
    "                    shuffle=True,\n",
    "                    batch_size=batch_size, verbose = 1)\n",
    "\n",
    "model.load_weights('training_balanced_weights.h5')\n",
    "model.save('training_balanced.h5')"
   ]
  },
  {
   "cell_type": "code",
   "execution_count": 16,
   "metadata": {
    "collapsed": true
   },
   "outputs": [],
   "source": [
    "import matplotlib.pyplot as plt\n",
    "%matplotlib inline\n",
    "\n",
    "def plot_history(history):\n",
    "    plt.rcParams[\"figure.figsize\"] = [15,5]\n",
    "    # summarize history for loss\n",
    "    plt.subplot(1,2,1)\n",
    "    plt.plot(history.history['loss']), plt.plot(history.history['val_loss'])\n",
    "    plt.title(' model loss'), plt.ylabel('loss'), plt.xlabel('epoch')\n",
    "    plt.legend(['train', 'test'], loc='upper right',prop={'size': 12})\n",
    "    # summarize history for accuracy\n",
    "    plt.subplot(1,2,2)\n",
    "    plt.plot(history.history['acc']), plt.plot(history.history['val_acc'])\n",
    "    plt.title(' model accuracy'), plt.ylabel('accuracy'), plt.xlabel('epoch')\n",
    "    plt.legend(['train', 'test'], loc='lower right',prop={'size': 12})\n",
    "    plt.show()\n",
    "    print('Last epoch train accuracy:', history.history['acc'][-1])\n",
    "    print('Last epoch test accuracy:', history.history['val_acc'][-1])"
   ]
  },
  {
   "cell_type": "code",
   "execution_count": 17,
   "metadata": {
    "collapsed": false
   },
   "outputs": [
    {
     "data": {
      "image/png": "[encoded data removed]",
      "text/plain": [
       "<matplotlib.figure.Figure at 0x7f83d01c36a0>"
      ]
     },
     "metadata": {},
     "output_type": "display_data"
    },
    {
     "name": "stdout",
     "output_type": "stream",
     "text": [
      "Last epoch train accuracy: 0.889780564263\n",
      "Last epoch test accuracy: 0.835506519678\n"
     ]
    }
   ],
   "source": [
    "plot_history(history)"
   ]
  },
  {
   "cell_type": "code",
   "execution_count": 18,
   "metadata": {
    "collapsed": true
   },
   "outputs": [],
   "source": [
    "y_pred = model.predict(X_test)\n",
    "y_pred = np.argmax(y_pred, axis=1)"
   ]
  },
  {
   "cell_type": "code",
   "execution_count": 19,
   "metadata": {
    "collapsed": false
   },
   "outputs": [
    {
     "name": "stdout",
     "output_type": "stream",
     "text": [
      "Predicting on test data\n",
      "0.774647887324\n"
     ]
    }
   ],
   "source": [
    "from sklearn.metrics import accuracy_score\n",
    "\n",
    "print('Predicting on test data')\n",
    "\n",
    "print(accuracy_score(encoded_y_test, y_pred))"
   ]
  }
 ],
 "metadata": {
  "kernelspec": {
   "display_name": "Python 3",
   "language": "python",
   "name": "python3"
  },
  "language_info": {
   "codemirror_mode": {
    "name": "ipython",
    "version": 3
   },
   "file_extension": ".py",
   "mimetype": "text/x-python",
   "name": "python",
   "nbconvert_exporter": "python",
   "pygments_lexer": "ipython3",
   "version": "3.6.0"
  }
 },
 "nbformat": 4,
 "nbformat_minor": 2
}
